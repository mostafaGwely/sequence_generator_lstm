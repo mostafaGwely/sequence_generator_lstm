{
 "cells": [
  {
   "cell_type": "code",
   "execution_count": 1,
   "metadata": {},
   "outputs": [],
   "source": [
    "import pandas as pd "
   ]
  },
  {
   "cell_type": "code",
   "execution_count": 2,
   "metadata": {},
   "outputs": [],
   "source": [
    "df = pd.read_csv('./neural_network_patent_query.csv')\n"
   ]
  },
  {
   "cell_type": "code",
   "execution_count": 3,
   "metadata": {},
   "outputs": [],
   "source": [
    "df = df[:400]\n",
    "df = df.patent_abstract"
   ]
  },
  {
   "cell_type": "code",
   "execution_count": 4,
   "metadata": {},
   "outputs": [
    {
     "name": "stderr",
     "output_type": "stream",
     "text": [
      "Using TensorFlow backend.\n"
     ]
    }
   ],
   "source": [
    "from keras.preprocessing.text import Tokenizer"
   ]
  },
  {
   "cell_type": "code",
   "execution_count": 5,
   "metadata": {},
   "outputs": [],
   "source": [
    "T = Tokenizer()"
   ]
  },
  {
   "cell_type": "code",
   "execution_count": 6,
   "metadata": {},
   "outputs": [],
   "source": [
    "T.fit_on_texts(df.values)"
   ]
  },
  {
   "cell_type": "code",
   "execution_count": 7,
   "metadata": {},
   "outputs": [],
   "source": [
    "sequences = T.texts_to_sequences(df.values)"
   ]
  },
  {
   "cell_type": "code",
   "execution_count": 8,
   "metadata": {},
   "outputs": [],
   "source": [
    "maxlen = 15"
   ]
  },
  {
   "cell_type": "code",
   "execution_count": 9,
   "metadata": {},
   "outputs": [],
   "source": [
    "features = [] \n",
    "labels = [] "
   ]
  },
  {
   "cell_type": "code",
   "execution_count": 10,
   "metadata": {},
   "outputs": [],
   "source": [
    "for sequence in sequences:\n",
    "    for i in range(maxlen,len(sequence)+1):\n",
    "        extract = sequence[i-maxlen: i+1]\n",
    "        features.append(extract[:-1])\n",
    "        labels.append(extract[-1])"
   ]
  },
  {
   "cell_type": "code",
   "execution_count": 11,
   "metadata": {},
   "outputs": [],
   "source": [
    "import numpy as np "
   ]
  },
  {
   "cell_type": "code",
   "execution_count": 12,
   "metadata": {},
   "outputs": [],
   "source": [
    "temp = np.zeros((len(features),  maxlen), dtype='int')"
   ]
  },
  {
   "cell_type": "code",
   "execution_count": 13,
   "metadata": {},
   "outputs": [],
   "source": [
    "for i,d in enumerate(features):\n",
    "    for j,dd in enumerate(d):\n",
    "        temp[i][j] = dd"
   ]
  },
  {
   "cell_type": "code",
   "execution_count": 14,
   "metadata": {},
   "outputs": [
    {
     "data": {
      "text/plain": [
       "array([   2, 1713,   53, 2141, 1236,   10,    2,    9,    6,   16,   26,\n",
       "        120,   43,   23,    2])"
      ]
     },
     "execution_count": 14,
     "metadata": {},
     "output_type": "execute_result"
    }
   ],
   "source": [
    "temp[0] "
   ]
  },
  {
   "cell_type": "code",
   "execution_count": 15,
   "metadata": {},
   "outputs": [
    {
     "data": {
      "text/plain": [
       "[2, 1713, 53, 2141, 1236, 10, 2, 9, 6, 16, 26, 120, 43, 23, 2]"
      ]
     },
     "execution_count": 15,
     "metadata": {},
     "output_type": "execute_result"
    }
   ],
   "source": [
    "features[0]"
   ]
  },
  {
   "cell_type": "code",
   "execution_count": 16,
   "metadata": {},
   "outputs": [],
   "source": [
    "features = temp "
   ]
  },
  {
   "cell_type": "code",
   "execution_count": 17,
   "metadata": {},
   "outputs": [],
   "source": [
    "del temp"
   ]
  },
  {
   "cell_type": "code",
   "execution_count": 18,
   "metadata": {},
   "outputs": [
    {
     "data": {
      "text/plain": [
       "(array([   2, 1713,   53, 2141, 1236,   10,    2,    9,    6,   16,   26,\n",
       "         120,   43,   23,    2]), 854)"
      ]
     },
     "execution_count": 18,
     "metadata": {},
     "output_type": "execute_result"
    }
   ],
   "source": [
    "features[0] , labels[0]"
   ]
  },
  {
   "cell_type": "code",
   "execution_count": 19,
   "metadata": {},
   "outputs": [],
   "source": [
    "idx_word = {}\n",
    "for word, ind in T.word_index.items():\n",
    "    idx_word[ind] = word\n"
   ]
  },
  {
   "cell_type": "code",
   "execution_count": 20,
   "metadata": {},
   "outputs": [
    {
     "name": "stdout",
     "output_type": "stream",
     "text": [
      "network\n",
      "system\n",
      "that\n",
      "when\n",
      "used\n",
      "as\n",
      "a\n",
      "track\n",
      "while\n",
      "scan\n",
      "system\n",
      "assigns\n",
      "sensor\n",
      "plots\n",
      "to\n",
      "predicted\n"
     ]
    }
   ],
   "source": [
    "for i in features[8]:\n",
    "    print(idx_word[i])\n",
    "print(idx_word[labels[8]])"
   ]
  },
  {
   "cell_type": "code",
   "execution_count": 21,
   "metadata": {},
   "outputs": [],
   "source": [
    "len(labels)\n",
    "temp = np.zeros((len(labels), 1+len(idx_word)))\n",
    "for i,d in enumerate(labels):\n",
    "    temp[i][d] = 1\n"
   ]
  },
  {
   "cell_type": "code",
   "execution_count": 22,
   "metadata": {},
   "outputs": [],
   "source": [
    "labels = temp\n",
    "del temp"
   ]
  },
  {
   "cell_type": "code",
   "execution_count": 23,
   "metadata": {},
   "outputs": [],
   "source": [
    "\n",
    "from keras.models import Sequential\n",
    "from keras.layers import Dense, Embedding, Masking, LSTM, Dropout"
   ]
  },
  {
   "cell_type": "code",
   "execution_count": 24,
   "metadata": {},
   "outputs": [
    {
     "data": {
      "text/plain": [
       "4395"
      ]
     },
     "execution_count": 24,
     "metadata": {},
     "output_type": "execute_result"
    }
   ],
   "source": [
    "num_words = 1+ len(idx_word)\n",
    "num_words"
   ]
  },
  {
   "cell_type": "code",
   "execution_count": 25,
   "metadata": {},
   "outputs": [],
   "source": [
    "model = Sequential()\n",
    "model.add(Embedding(input_dim=num_words,input_length = maxlen,output_dim=100))\n",
    "model.add(LSTM(64, return_sequences=False, dropout=0.1, recurrent_dropout=0.1))\n",
    "model.add(Dense(64, activation='relu'))\n",
    "model.add(Dropout(0.5))\n",
    "model.add(Dense(num_words, activation='softmax'))"
   ]
  },
  {
   "cell_type": "code",
   "execution_count": 26,
   "metadata": {},
   "outputs": [],
   "source": [
    "model.compile(optimizer='adam', loss='categorical_crossentropy', metrics=['accuracy'])"
   ]
  },
  {
   "cell_type": "code",
   "execution_count": 27,
   "metadata": {},
   "outputs": [],
   "source": [
    "from sklearn.model_selection import train_test_split"
   ]
  },
  {
   "cell_type": "code",
   "execution_count": 28,
   "metadata": {},
   "outputs": [],
   "source": [
    "x_train, x_test, y_train, y_test = train_test_split(features, labels, test_size=0.33)"
   ]
  },
  {
   "cell_type": "code",
   "execution_count": 29,
   "metadata": {},
   "outputs": [
    {
     "data": {
      "text/plain": [
       "((32320, 15), 4395)"
      ]
     },
     "execution_count": 29,
     "metadata": {},
     "output_type": "execute_result"
    }
   ],
   "source": [
    "x_train.shape , len(y_train[0])\n"
   ]
  },
  {
   "cell_type": "code",
   "execution_count": 30,
   "metadata": {},
   "outputs": [
    {
     "name": "stdout",
     "output_type": "stream",
     "text": [
      "_________________________________________________________________\n",
      "Layer (type)                 Output Shape              Param #   \n",
      "=================================================================\n",
      "embedding_1 (Embedding)      (None, 15, 100)           439500    \n",
      "_________________________________________________________________\n",
      "lstm_1 (LSTM)                (None, 64)                42240     \n",
      "_________________________________________________________________\n",
      "dense_1 (Dense)              (None, 64)                4160      \n",
      "_________________________________________________________________\n",
      "dropout_1 (Dropout)          (None, 64)                0         \n",
      "_________________________________________________________________\n",
      "dense_2 (Dense)              (None, 4395)              285675    \n",
      "=================================================================\n",
      "Total params: 771,575\n",
      "Trainable params: 771,575\n",
      "Non-trainable params: 0\n",
      "_________________________________________________________________\n"
     ]
    }
   ],
   "source": [
    "model.summary()"
   ]
  },
  {
   "cell_type": "code",
   "execution_count": 31,
   "metadata": {},
   "outputs": [],
   "source": [
    "from keras.callbacks import EarlyStopping, ModelCheckpoint\n",
    "\n",
    "# Create callbacks\n",
    "callbacks = [EarlyStopping(monitor='val_loss', patience=5),\n",
    "             ModelCheckpoint('model.h5', save_best_only=True, \n",
    "                             save_weights_only=False)]"
   ]
  },
  {
   "cell_type": "code",
   "execution_count": 32,
   "metadata": {
    "scrolled": true
   },
   "outputs": [
    {
     "name": "stdout",
     "output_type": "stream",
     "text": [
      "Train on 32320 samples, validate on 15920 samples\n",
      "Epoch 1/10\n",
      "32320/32320 [==============================] - 18s 566us/step - loss: 7.6896 - acc: 0.0489 - val_loss: 6.4927 - val_acc: 0.0820\n",
      "Epoch 2/10\n",
      "32320/32320 [==============================] - 16s 502us/step - loss: 6.3526 - acc: 0.0791 - val_loss: 6.3941 - val_acc: 0.0820\n",
      "Epoch 3/10\n",
      "32320/32320 [==============================] - 18s 571us/step - loss: 6.2848 - acc: 0.0807 - val_loss: 6.3896 - val_acc: 0.0820\n",
      "Epoch 4/10\n",
      "32320/32320 [==============================] - 17s 513us/step - loss: 6.2332 - acc: 0.0815 - val_loss: 6.3521 - val_acc: 0.0820\n",
      "Epoch 5/10\n",
      "32320/32320 [==============================] - 15s 471us/step - loss: 6.1668 - acc: 0.0812 - val_loss: 6.3248 - val_acc: 0.0821\n",
      "Epoch 6/10\n",
      "32320/32320 [==============================] - 18s 554us/step - loss: 6.1213 - acc: 0.0815 - val_loss: 6.3329 - val_acc: 0.0820\n",
      "Epoch 7/10\n",
      "32320/32320 [==============================] - 21s 659us/step - loss: 6.0950 - acc: 0.0815 - val_loss: 6.3438 - val_acc: 0.0821\n",
      "Epoch 8/10\n",
      "32320/32320 [==============================] - 18s 548us/step - loss: 6.0707 - acc: 0.0815 - val_loss: 6.3473 - val_acc: 0.0821\n",
      "Epoch 9/10\n",
      "32320/32320 [==============================] - 19s 603us/step - loss: 6.0548 - acc: 0.0815 - val_loss: 6.3481 - val_acc: 0.0822\n",
      "Epoch 10/10\n",
      "32320/32320 [==============================] - 21s 648us/step - loss: 6.0402 - acc: 0.0824 - val_loss: 6.3544 - val_acc: 0.0821\n"
     ]
    }
   ],
   "source": [
    "history = model.fit(x_train, y_train, epochs=10, validation_data=(x_test,y_test),batch_size=800,\n",
    "                    callbacks=callbacks)"
   ]
  },
  {
   "cell_type": "code",
   "execution_count": 33,
   "metadata": {},
   "outputs": [
    {
     "data": {
      "text/plain": [
       "array([[5.3278122e-06, 1.7645547e-02, 1.2541825e-02, ..., 5.2277315e-05,\n",
       "        7.9856734e-05, 5.2435817e-06]], dtype=float32)"
      ]
     },
     "execution_count": 33,
     "metadata": {},
     "output_type": "execute_result"
    }
   ],
   "source": [
    "model.predict(x_test[0:1,:])"
   ]
  },
  {
   "cell_type": "code",
   "execution_count": 34,
   "metadata": {},
   "outputs": [
    {
     "data": {
      "text/plain": [
       "(1, 15)"
      ]
     },
     "execution_count": 34,
     "metadata": {},
     "output_type": "execute_result"
    }
   ],
   "source": [
    "x_test[0:1,:].shape"
   ]
  },
  {
   "cell_type": "code",
   "execution_count": 35,
   "metadata": {},
   "outputs": [],
   "source": [
    "def idx_word_seq(l,idx_word = idx_word):\n",
    "    a = [] \n",
    "    for i in l:\n",
    "        a.append(idx_word[i])\n",
    "    return a "
   ]
  },
  {
   "cell_type": "code",
   "execution_count": 172,
   "metadata": {},
   "outputs": [],
   "source": [
    "trigger = idx_word_seq(x_test[0:1,:].tolist()[0])"
   ]
  },
  {
   "cell_type": "code",
   "execution_count": 175,
   "metadata": {},
   "outputs": [
    {
     "data": {
      "text/plain": [
       "(['humidity',\n",
       "  'versus',\n",
       "  'time',\n",
       "  'characteristic',\n",
       "  'the',\n",
       "  'parameters',\n",
       "  'are',\n",
       "  'analyzed',\n",
       "  'by',\n",
       "  'a',\n",
       "  'neural',\n",
       "  'network',\n",
       "  'to',\n",
       "  'estimate',\n",
       "  'a'],\n",
       " 15)"
      ]
     },
     "execution_count": 175,
     "metadata": {},
     "output_type": "execute_result"
    }
   ],
   "source": [
    "trigger, len(trigger)"
   ]
  },
  {
   "cell_type": "code",
   "execution_count": 176,
   "metadata": {},
   "outputs": [
    {
     "data": {
      "text/plain": [
       "(1, 15)"
      ]
     },
     "execution_count": 176,
     "metadata": {},
     "output_type": "execute_result"
    }
   ],
   "source": [
    "trigger = np.array(list(T.texts_to_sequences(trigger))).reshape(1,-1)\n",
    "trigger.shape"
   ]
  },
  {
   "cell_type": "code",
   "execution_count": 177,
   "metadata": {},
   "outputs": [
    {
     "data": {
      "text/plain": [
       "(1, 15)"
      ]
     },
     "execution_count": 177,
     "metadata": {},
     "output_type": "execute_result"
    }
   ],
   "source": [
    "trigger.shape"
   ]
  },
  {
   "cell_type": "code",
   "execution_count": 178,
   "metadata": {},
   "outputs": [],
   "source": [
    "conclusion = trigger\n"
   ]
  },
  {
   "cell_type": "code",
   "execution_count": 179,
   "metadata": {},
   "outputs": [
    {
     "data": {
      "text/plain": [
       "(1, 15)"
      ]
     },
     "execution_count": 179,
     "metadata": {},
     "output_type": "execute_result"
    }
   ],
   "source": [
    "conclusion.shape"
   ]
  },
  {
   "cell_type": "code",
   "execution_count": 237,
   "metadata": {},
   "outputs": [],
   "source": [
    "for i in range(100):\n",
    "    x = model.predict(trigger)\n",
    "    x = np.argsort(x)[0][:10]\n",
    "\n",
    "    x = np.random.choice(x,1)[0]\n",
    "    conclusion = np.append(conclusion,x).reshape(1,-1)\n",
    "    trigger = conclusion[0][-15:].reshape(1,-1)"
   ]
  },
  {
   "cell_type": "code",
   "execution_count": null,
   "metadata": {},
   "outputs": [],
   "source": []
  },
  {
   "cell_type": "code",
   "execution_count": 238,
   "metadata": {},
   "outputs": [
    {
     "data": {
      "text/plain": [
       "'humidity versus time characteristic the parameters are analyzed by a neural network to estimate a the the the the the the the the the the the the the the the the the the the the the the the the magnitudes stimulation centric magnitudes dispatching differentiable dispatching 2d infers none vapors 2d vapors designing centric differentiable refractive differentiable compact benefit infers benefit centric compact infers vapors centric compact differentiable dispatching differentiable differentiable 2d centric vapors refractive refractive benefit infers stimulation 2d deinked differentiable infers centric dispatching 2d compact stimulation 2d compact designing centric benefit compact differentiable dispatching differentiable 2d refractive infers vapors stimulation stimulation centric infers refractive infers benefit none centric refractive stimulation stimulation stimulation compact refractive benefit none infers vapors infers neighbors dispatching vapors compact benefit vapors compact infers compact magnitudes differentiable differentiable benefit stimulation vapors dispatching compact vapors '"
      ]
     },
     "execution_count": 238,
     "metadata": {},
     "output_type": "execute_result"
    }
   ],
   "source": [
    "a = ''\n",
    "for x in idx_word_seq(conclusion[0]):\n",
    "    a += x\n",
    "    a += ' '\n",
    "a"
   ]
  }
 ],
 "metadata": {
  "kernelspec": {
   "display_name": "Python 3",
   "language": "python",
   "name": "python3"
  },
  "language_info": {
   "codemirror_mode": {
    "name": "ipython",
    "version": 3
   },
   "file_extension": ".py",
   "mimetype": "text/x-python",
   "name": "python",
   "nbconvert_exporter": "python",
   "pygments_lexer": "ipython3",
   "version": "3.6.7"
  }
 },
 "nbformat": 4,
 "nbformat_minor": 2
}
